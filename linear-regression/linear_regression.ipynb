{
 "cells": [
  {
   "cell_type": "code",
   "execution_count": 41,
   "id": "d3003650",
   "metadata": {},
   "outputs": [],
   "source": [
    "%matplotlib inline\n",
    "import numpy as np\n",
    "import pandas as pd\n",
    "import cvxpy as cp\n",
    "import matplotlib.pyplot as plt\n",
    "import seaborn as sns\n",
    "from numpy import genfromtxt\n",
    "from scipy.optimize import linprog\n",
    "plt.rcParams['figure.figsize'] = [10, 10]"
   ]
  },
  {
   "cell_type": "markdown",
   "id": "de175c03",
   "metadata": {},
   "source": [
    "### Data Generation\n",
    "The underlying model is a linear model. I randomly generate weights $\\beta$ for $p$ features. The underlying model is then $Y = X^T \\beta + \\epsilon$ where $\\epsilon \\sim N(0, 1)$"
   ]
  },
  {
   "cell_type": "code",
   "execution_count": 97,
   "id": "6121d942",
   "metadata": {},
   "outputs": [
    {
     "data": {
      "text/plain": [
       "(-0.792483307744766,\n",
       " array([ 2.31144497,  0.04354509,  0.20134108, -0.25421774,  1.77586718,\n",
       "        -2.1133035 , -2.06072016, -0.58484004,  0.45857761,  0.70669958]))"
      ]
     },
     "execution_count": 97,
     "metadata": {},
     "output_type": "execute_result"
    }
   ],
   "source": [
    "p = 10 # number of features\n",
    "n = 100 # number of data points\n",
    "beta = np.random.normal(0, 1, 10)\n",
    "beta0 = np.random.normal(0, 1)\n",
    "beta0, beta"
   ]
  },
  {
   "cell_type": "code",
   "execution_count": 98,
   "id": "3ee5cbfb",
   "metadata": {},
   "outputs": [],
   "source": [
    "X = np.random.normal(0, 1, (n, p))\n",
    "Y = X @ beta + beta0*np.ones(n) + np.random.normal(0, 1, n)"
   ]
  },
  {
   "cell_type": "markdown",
   "id": "5665a98d",
   "metadata": {},
   "source": [
    "### Regression Formula\n",
    "Just using the formula $\\hat{\\beta} = (X^TX)^{-1}X^TY$ here"
   ]
  },
  {
   "cell_type": "code",
   "execution_count": 99,
   "id": "b9b5edb6",
   "metadata": {},
   "outputs": [
    {
     "data": {
      "text/plain": [
       "array([[ 1.        ,  0.40880543, -0.6827643 , -1.25341075,  0.35306643,\n",
       "         1.43422226,  1.70509291,  1.84254312, -0.9478274 , -0.99488189,\n",
       "        -0.32464899],\n",
       "       [ 1.        ,  0.14765154,  1.33274188,  0.73230448, -1.35817493,\n",
       "         0.18065067, -0.64459808, -0.4780891 ,  2.17016526,  0.54835863,\n",
       "         0.47224033],\n",
       "       [ 1.        ,  0.80253334, -0.2475641 ,  1.40368364, -1.25508336,\n",
       "        -2.10943053,  0.29532366,  0.82362716,  0.64304665, -1.57034019,\n",
       "        -2.96946787],\n",
       "       [ 1.        ,  1.27543838,  0.11767872, -0.38042413, -1.78204858,\n",
       "         0.60165393,  0.09501971,  0.32495483,  0.37054124,  0.81239681,\n",
       "        -0.02820516],\n",
       "       [ 1.        , -1.0460915 ,  0.15423387,  0.2765208 ,  0.25880292,\n",
       "        -1.38462809, -0.02227528,  0.88678316, -0.15214923,  0.74950174,\n",
       "        -0.29811004]])"
      ]
     },
     "execution_count": 99,
     "metadata": {},
     "output_type": "execute_result"
    }
   ],
   "source": [
    "Xprime = np.insert(X, 0, np.ones(n), axis=1)\n",
    "Xprime[0:5,:]"
   ]
  },
  {
   "cell_type": "code",
   "execution_count": 100,
   "id": "4b516cf4",
   "metadata": {},
   "outputs": [
    {
     "data": {
      "text/plain": [
       "array([-0.67231775,  2.20987265,  0.09585375,  0.0556739 , -0.23511587,\n",
       "        1.66939383, -2.05591397, -2.0634393 , -0.42606317,  0.38976968,\n",
       "        0.76673522])"
      ]
     },
     "execution_count": 100,
     "metadata": {},
     "output_type": "execute_result"
    }
   ],
   "source": [
    "betahat = np.linalg.inv(Xprime.T @ Xprime) @ Xprime.T @ Y\n",
    "betahat"
   ]
  },
  {
   "cell_type": "markdown",
   "id": "859dc04a",
   "metadata": {},
   "source": [
    "### Optimization\n",
    "Solving it using CVXPY as an optimization problem i.e. not using exact form."
   ]
  },
  {
   "cell_type": "code",
   "execution_count": 101,
   "id": "53f755cc",
   "metadata": {},
   "outputs": [
    {
     "data": {
      "text/plain": [
       "72.75110490292734"
      ]
     },
     "execution_count": 101,
     "metadata": {},
     "output_type": "execute_result"
    }
   ],
   "source": [
    "bhat = cp.Variable(p + 1)\n",
    "cost = cp.sum_squares(Xprime @ bhat - Y)\n",
    "prob = cp.Problem(cp.Minimize(cost))\n",
    "prob.solve()"
   ]
  },
  {
   "cell_type": "code",
   "execution_count": 102,
   "id": "7c069a2a",
   "metadata": {},
   "outputs": [
    {
     "data": {
      "text/plain": [
       "array([-0.67231775,  2.20987265,  0.09585375,  0.0556739 , -0.23511587,\n",
       "        1.66939383, -2.05591397, -2.0634393 , -0.42606317,  0.38976968,\n",
       "        0.76673522])"
      ]
     },
     "execution_count": 102,
     "metadata": {},
     "output_type": "execute_result"
    }
   ],
   "source": [
    "bhat.value"
   ]
  },
  {
   "cell_type": "markdown",
   "id": "c9e0e6c9",
   "metadata": {},
   "source": [
    "### Gram Schmidt and Projection\n",
    "This method is basically projection $Y$ onto $X_i$ for $i = 1, ..., p$, eliminating the residue from $Y$ and repeating the process."
   ]
  },
  {
   "cell_type": "code",
   "execution_count": 103,
   "id": "2e571954",
   "metadata": {},
   "outputs": [
    {
     "data": {
      "text/plain": [
       "array([-4.89052383e+00,  2.27956609e+00, -7.50516483e+00,  3.34712504e+00,\n",
       "       -6.84678054e+00, -2.91254197e+00, -1.88290794e+00,  1.88310888e+00,\n",
       "       -9.31228593e+00,  4.49593305e-02, -2.28526982e+00,  4.60590952e+00,\n",
       "       -1.98663035e+00,  2.69204216e+00, -4.17170407e+00,  6.20001049e+00,\n",
       "        1.04856957e+01, -4.51275045e+00, -4.97630065e+00, -3.71746395e+00,\n",
       "        1.21858703e+00, -7.42319949e+00,  3.80913230e+00, -3.36826290e+00,\n",
       "        5.46239902e+00, -2.61452218e+00, -6.30335923e-01,  2.98293744e-03,\n",
       "       -3.86163431e+00, -5.09508851e-01,  2.25765374e+00,  4.24203515e+00,\n",
       "        2.99892690e-01, -4.07888834e+00,  2.11457171e+00, -3.54888830e-01,\n",
       "       -4.62596234e+00,  9.30428272e+00, -5.59877724e+00,  5.18534707e+00,\n",
       "        6.38349824e+00, -3.98060547e+00,  2.83962032e+00, -1.64390393e+00,\n",
       "       -2.58134545e+00,  3.71462040e+00, -7.20891829e+00,  6.01148980e+00,\n",
       "       -4.03618862e+00, -1.54067855e+00, -2.62909291e+00, -1.79032321e+00,\n",
       "       -3.85937112e-01, -7.15573744e+00, -6.23638792e+00, -3.48497179e+00,\n",
       "       -8.30981820e+00,  4.89082101e-01,  2.87786002e+00, -1.02859270e+00,\n",
       "        2.85828415e-02, -4.40773410e-01,  1.29594654e+00, -6.98428783e+00,\n",
       "        7.17376158e+00, -3.18133696e+00,  2.32888254e+00,  3.84324129e-01,\n",
       "       -1.66552391e+00, -1.56749909e+00, -2.91222049e-01, -4.68387370e+00,\n",
       "       -4.72300293e+00,  9.37571841e-01,  9.08335598e-01, -4.12619859e+00,\n",
       "        8.14352718e-01,  4.70767448e+00, -3.29897514e+00, -1.35926248e+00,\n",
       "       -3.49298935e+00,  1.54728881e+00,  5.57235737e+00, -6.13344946e+00,\n",
       "        9.38372103e-01, -7.85776682e-01, -4.21340365e+00,  1.78252952e+00,\n",
       "       -3.10863782e+00, -5.85735349e+00, -5.42070690e+00, -3.99295240e-01,\n",
       "       -4.83812972e+00, -1.32129643e+00,  7.56339292e-01, -3.64689010e+00,\n",
       "        5.71969574e+00,  6.21002398e-01,  1.19537397e+01,  1.52199843e+00])"
      ]
     },
     "execution_count": 103,
     "metadata": {},
     "output_type": "execute_result"
    }
   ],
   "source": [
    "Yprime = Y.copy()\n",
    "Yprime"
   ]
  },
  {
   "cell_type": "code",
   "execution_count": 108,
   "id": "cdc9c134",
   "metadata": {},
   "outputs": [
    {
     "data": {
      "text/plain": [
       "array([1., 1., 1., 1., 1., 1., 1., 1., 1., 1., 1., 1., 1., 1., 1., 1., 1.,\n",
       "       1., 1., 1., 1., 1., 1., 1., 1., 1., 1., 1., 1., 1., 1., 1., 1., 1.,\n",
       "       1., 1., 1., 1., 1., 1., 1., 1., 1., 1., 1., 1., 1., 1., 1., 1., 1.,\n",
       "       1., 1., 1., 1., 1., 1., 1., 1., 1., 1., 1., 1., 1., 1., 1., 1., 1.,\n",
       "       1., 1., 1., 1., 1., 1., 1., 1., 1., 1., 1., 1., 1., 1., 1., 1., 1.,\n",
       "       1., 1., 1., 1., 1., 1., 1., 1., 1., 1., 1., 1., 1., 1., 1.])"
      ]
     },
     "execution_count": 108,
     "metadata": {},
     "output_type": "execute_result"
    }
   ],
   "source": [
    "Xprime[:,0]"
   ]
  },
  {
   "cell_type": "code",
   "execution_count": 105,
   "id": "d623729c",
   "metadata": {},
   "outputs": [],
   "source": [
    "res = []\n",
    "bb = []\n",
    "for i in range(p + 1):\n",
    "    cur = Xprime[:, i].copy()\n",
    "    for j in range(i):\n",
    "        cur -= np.dot(cur, res[j])*res[j]\n",
    "    curbeta = np.dot(Yprime, cur)/(np.linalg.norm(cur, 2)**2)\n",
    "    Yprime -= curbeta*cur\n",
    "    res.append(cur/np.linalg.norm(cur, 2))\n",
    "    bb.append(curbeta)"
   ]
  },
  {
   "cell_type": "code",
   "execution_count": 106,
   "id": "dc9c42ba",
   "metadata": {},
   "outputs": [
    {
     "data": {
      "text/plain": [
       "[-0.7487446312045952,\n",
       " 2.145417786784691,\n",
       " 0.10980869718655849,\n",
       " 0.009680004291956609,\n",
       " -0.5561378640119993,\n",
       " 2.13266580846764,\n",
       " -1.8533279111122443,\n",
       " -2.159478838117387,\n",
       " -0.4136379037716033,\n",
       " 0.40190847124973944,\n",
       " 0.7667352164662559]"
      ]
     },
     "execution_count": 106,
     "metadata": {},
     "output_type": "execute_result"
    }
   ],
   "source": [
    "bb"
   ]
  }
 ],
 "metadata": {
  "kernelspec": {
   "display_name": "Python 3 (ipykernel)",
   "language": "python",
   "name": "python3"
  },
  "language_info": {
   "codemirror_mode": {
    "name": "ipython",
    "version": 3
   },
   "file_extension": ".py",
   "mimetype": "text/x-python",
   "name": "python",
   "nbconvert_exporter": "python",
   "pygments_lexer": "ipython3",
   "version": "3.9.7"
  }
 },
 "nbformat": 4,
 "nbformat_minor": 5
}
